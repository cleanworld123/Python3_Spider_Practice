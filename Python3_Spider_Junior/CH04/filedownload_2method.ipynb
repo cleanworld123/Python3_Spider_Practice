{
 "cells": [
  {
   "cell_type": "markdown",
   "metadata": {},
   "source": [
    "# 基于requests和urllib的文件下载比较"
   ]
  },
  {
   "cell_type": "code",
   "execution_count": 2,
   "metadata": {},
   "outputs": [
    {
     "data": {
      "text/plain": [
       "('baidu2.png', <http.client.HTTPMessage at 0x1ea9026ea58>)"
      ]
     },
     "execution_count": 2,
     "metadata": {},
     "output_type": "execute_result"
    }
   ],
   "source": [
    "import requests\n",
    "from urllib import request\n",
    "\n",
    "url = 'https://www.baidu.com/img/bd_logo1.png'\n",
    "\n",
    "#requests从百度首页下载百度的logo图片\n",
    "response = requests.get(url)\n",
    "with open(r'baidu.png','wb') as f:\n",
    "    f.write(response.content)\n",
    "    \n",
    "#urllib从百度首页下载百度的logo图片\n",
    "request.urlretrieve(url, r'baidu2.png')   "
   ]
  },
  {
   "cell_type": "code",
   "execution_count": null,
   "metadata": {},
   "outputs": [],
   "source": []
  }
 ],
 "metadata": {
  "kernelspec": {
   "display_name": "Python 3",
   "language": "python",
   "name": "python3"
  },
  "language_info": {
   "codemirror_mode": {
    "name": "ipython",
    "version": 3
   },
   "file_extension": ".py",
   "mimetype": "text/x-python",
   "name": "python",
   "nbconvert_exporter": "python",
   "pygments_lexer": "ipython3",
   "version": "3.6.7"
  }
 },
 "nbformat": 4,
 "nbformat_minor": 2
}
